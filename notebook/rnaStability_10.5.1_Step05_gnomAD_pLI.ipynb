{
 "cells": [
  {
   "cell_type": "markdown",
   "metadata": {},
   "source": [
    "## Ensembl to RefSeq Mapping"
   ]
  },
  {
   "cell_type": "markdown",
   "metadata": {},
   "source": [
    "The constraint table from gnomAD has duplicate gene ID's - in the example of TUBB3 one gene ID is missannotated. Given out analysis is by transcript, it is probably better to use the transcript table from gnomAD. Howver, gnomAD used ENSEMBL transcripts and we used RefSeq Transcripts. Can map the two through biomart:\n",
    "\n",
    "http://www.ensembl.org/biomart/martview/e81bf786e69482239d8e7799ec2c9e9e\n",
    "\n"
   ]
  },
  {
   "cell_type": "code",
   "execution_count": 19,
   "metadata": {},
   "outputs": [
    {
     "data": {
      "application/vnd.jupyter.widget-view+json": {
       "model_id": "24746e47eca44ae98b62218fe4a22a2c",
       "version_major": 2,
       "version_minor": 0
      },
      "text/plain": [
       "VBox()"
      ]
     },
     "metadata": {},
     "output_type": "display_data"
    },
    {
     "data": {
      "application/vnd.jupyter.widget-view+json": {
       "model_id": "",
       "version_major": 2,
       "version_minor": 0
      },
      "text/plain": [
       "FloatProgress(value=0.0, bar_style='info', description='Progress:', layout=Layout(height='25px', width='50%'),…"
      ]
     },
     "metadata": {},
     "output_type": "display_data"
    },
    {
     "name": "stdout",
     "output_type": "stream",
     "text": [
      "import org.apache.spark.sql.{Row, SparkSession}\n",
      "import org.apache.spark.sql.types._\n",
      "import org.apache.spark.sql.functions._\n",
      "import org.apache.spark.sql.expressions.Window\n"
     ]
    }
   ],
   "source": [
    "import org.apache.spark.sql.{Row, SparkSession}\n",
    "import org.apache.spark.sql.types._\n",
    "import org.apache.spark.sql.functions._\n",
    "import org.apache.spark.sql.expressions.Window"
   ]
  },
  {
   "cell_type": "code",
   "execution_count": 20,
   "metadata": {},
   "outputs": [
    {
     "data": {
      "application/vnd.jupyter.widget-view+json": {
       "model_id": "eb30fb12be2846a6b6298bf0d2c58e04",
       "version_major": 2,
       "version_minor": 0
      },
      "text/plain": [
       "VBox()"
      ]
     },
     "metadata": {},
     "output_type": "display_data"
    },
    {
     "data": {
      "application/vnd.jupyter.widget-view+json": {
       "model_id": "",
       "version_major": 2,
       "version_minor": 0
      },
      "text/plain": [
       "FloatProgress(value=0.0, bar_style='info', description='Progress:', layout=Layout(height='25px', width='50%'),…"
      ]
     },
     "metadata": {},
     "output_type": "display_data"
    },
    {
     "name": "stdout",
     "output_type": "stream",
     "text": [
      "customSchema: org.apache.spark.sql.types.StructType = StructType(StructField(GeneID,StringType,true), StructField(GeneIDVer,StringType,true), StructField(TranscriptID,StringType,true), StructField(TranscriptIDVer,StringType,true), StructField(EnsemblGeneSymbol,StringType,true), StructField(GeneType,StringType,true), StructField(GENE,StringType,true), StructField(RefSeq,StringType,true), StructField(NCBIGeneID,IntegerType,true))\n"
     ]
    }
   ],
   "source": [
    "val customSchema = new StructType(Array(\n",
    "  StructField(\"GeneID\",StringType,true),\n",
    "  StructField(\"GeneIDVer\",StringType,true),\n",
    "  StructField(\"TranscriptID\",StringType,true),\n",
    "  StructField(\"TranscriptIDVer\",StringType,true),\n",
    "  StructField(\"EnsemblGeneSymbol\",StringType,true),\n",
    "  StructField(\"GeneType\",StringType,true),\n",
    "  StructField(\"GENE\",StringType,true),\n",
    "  StructField(\"RefSeq\",StringType,true),\n",
    "  StructField(\"NCBIGeneID\",IntegerType,true)))"
   ]
  },
  {
   "cell_type": "code",
   "execution_count": 21,
   "metadata": {},
   "outputs": [
    {
     "data": {
      "application/vnd.jupyter.widget-view+json": {
       "model_id": "2b97a5ea0dd8401282d2ff94f22897da",
       "version_major": 2,
       "version_minor": 0
      },
      "text/plain": [
       "VBox()"
      ]
     },
     "metadata": {},
     "output_type": "display_data"
    },
    {
     "data": {
      "application/vnd.jupyter.widget-view+json": {
       "model_id": "",
       "version_major": 2,
       "version_minor": 0
      },
      "text/plain": [
       "FloatProgress(value=0.0, bar_style='info', description='Progress:', layout=Layout(height='25px', width='50%'),…"
      ]
     },
     "metadata": {},
     "output_type": "display_data"
    },
    {
     "name": "stdout",
     "output_type": "stream",
     "text": [
      "df_ens2ref: org.apache.spark.sql.DataFrame = [GeneID: string, GeneIDVer: string ... 7 more fields]\n"
     ]
    }
   ],
   "source": [
    "val df_ens2ref = (spark.read\n",
    "        .format(\"csv\")\n",
    "        .option(\"header\", \"true\")\n",
    "        .option(\"delimiter\", \"\\t\")\n",
    "        .option(\"nullValues\", \"\")\n",
    "        .schema(customSchema)\n",
    "        .load(\"s3://nch-igm-research-projects/rna_stability/peter/ensembl_2_refeq.txt\")\n",
    "             )"
   ]
  },
  {
   "cell_type": "code",
   "execution_count": 22,
   "metadata": {},
   "outputs": [
    {
     "data": {
      "application/vnd.jupyter.widget-view+json": {
       "model_id": "f0f2f0313abb4a5f81f17bed0b901e0f",
       "version_major": 2,
       "version_minor": 0
      },
      "text/plain": [
       "VBox()"
      ]
     },
     "metadata": {},
     "output_type": "display_data"
    },
    {
     "data": {
      "application/vnd.jupyter.widget-view+json": {
       "model_id": "",
       "version_major": 2,
       "version_minor": 0
      },
      "text/plain": [
       "FloatProgress(value=0.0, bar_style='info', description='Progress:', layout=Layout(height='25px', width='50%'),…"
      ]
     },
     "metadata": {},
     "output_type": "display_data"
    },
    {
     "name": "stdout",
     "output_type": "stream",
     "text": [
      "root\n",
      " |-- GeneID: string (nullable = true)\n",
      " |-- GeneIDVer: string (nullable = true)\n",
      " |-- TranscriptID: string (nullable = true)\n",
      " |-- TranscriptIDVer: string (nullable = true)\n",
      " |-- EnsemblGeneSymbol: string (nullable = true)\n",
      " |-- GeneType: string (nullable = true)\n",
      " |-- GENE: string (nullable = true)\n",
      " |-- RefSeq: string (nullable = true)\n",
      " |-- NCBIGeneID: integer (nullable = true)\n",
      "\n"
     ]
    }
   ],
   "source": [
    "df_ens2ref.printSchema"
   ]
  },
  {
   "cell_type": "code",
   "execution_count": 23,
   "metadata": {},
   "outputs": [
    {
     "data": {
      "application/vnd.jupyter.widget-view+json": {
       "model_id": "e3e45c1a7e1444f2942ee1325111bfd0",
       "version_major": 2,
       "version_minor": 0
      },
      "text/plain": [
       "VBox()"
      ]
     },
     "metadata": {},
     "output_type": "display_data"
    },
    {
     "data": {
      "application/vnd.jupyter.widget-view+json": {
       "model_id": "",
       "version_major": 2,
       "version_minor": 0
      },
      "text/plain": [
       "FloatProgress(value=0.0, bar_style='info', description='Progress:', layout=Layout(height='25px', width='50%'),…"
      ]
     },
     "metadata": {},
     "output_type": "display_data"
    },
    {
     "name": "stdout",
     "output_type": "stream",
     "text": [
      "+---------------+-----------------+---------------+------------------+-----------------+--------------+-----+------------+----------+\n",
      "|         GeneID|        GeneIDVer|   TranscriptID|   TranscriptIDVer|EnsemblGeneSymbol|      GeneType| GENE|      RefSeq|NCBIGeneID|\n",
      "+---------------+-----------------+---------------+------------------+-----------------+--------------+-----+------------+----------+\n",
      "|ENSG00000258947|ENSG00000258947.7|ENST00000555810| ENST00000555810.5|            TUBB3|protein_coding|TUBB3|        null|     10381|\n",
      "|ENSG00000258947|ENSG00000258947.7|ENST00000554444| ENST00000554444.5|            TUBB3|protein_coding|TUBB3|NM_001197181|     10381|\n",
      "|ENSG00000258947|ENSG00000258947.7|ENST00000556565| ENST00000556565.5|            TUBB3|protein_coding|TUBB3|        null|     10381|\n",
      "|ENSG00000258947|ENSG00000258947.7|ENST00000315491|ENST00000315491.12|            TUBB3|protein_coding|TUBB3|   NM_006086|     10381|\n",
      "|ENSG00000258947|ENSG00000258947.7|ENST00000553656| ENST00000553656.5|            TUBB3|protein_coding|TUBB3|        null|     10381|\n",
      "|ENSG00000258947|ENSG00000258947.7|ENST00000556536| ENST00000556536.5|            TUBB3|protein_coding|TUBB3|        null|     10381|\n",
      "|ENSG00000258947|ENSG00000258947.7|ENST00000554116| ENST00000554116.5|            TUBB3|protein_coding|TUBB3|        null|     10381|\n",
      "|ENSG00000258947|ENSG00000258947.7|ENST00000554927| ENST00000554927.1|            TUBB3|protein_coding|TUBB3|        null|     10381|\n",
      "|ENSG00000258947|ENSG00000258947.7|ENST00000557262| ENST00000557262.5|            TUBB3|protein_coding|TUBB3|        null|     10381|\n",
      "|ENSG00000258947|ENSG00000258947.7|ENST00000557490| ENST00000557490.5|            TUBB3|protein_coding|TUBB3|        null|     10381|\n",
      "|ENSG00000258947|ENSG00000258947.7|ENST00000555576| ENST00000555576.5|            TUBB3|protein_coding|TUBB3|        null|     10381|\n",
      "|ENSG00000258947|ENSG00000258947.7|ENST00000554336| ENST00000554336.5|            TUBB3|protein_coding|TUBB3|        null|     10381|\n",
      "|ENSG00000258947|ENSG00000258947.7|ENST00000555609| ENST00000555609.5|            TUBB3|protein_coding|TUBB3|        null|     10381|\n",
      "|ENSG00000258947|ENSG00000258947.7|ENST00000553967| ENST00000553967.1|            TUBB3|protein_coding|TUBB3|        null|     10381|\n",
      "|ENSG00000258947|ENSG00000258947.7|ENST00000625617| ENST00000625617.2|            TUBB3|protein_coding|TUBB3|        null|     10381|\n",
      "+---------------+-----------------+---------------+------------------+-----------------+--------------+-----+------------+----------+\n",
      "\n"
     ]
    }
   ],
   "source": [
    "df_ens2ref.filter($\"GENE\" === \"TUBB3\").show"
   ]
  },
  {
   "cell_type": "markdown",
   "metadata": {},
   "source": [
    "Double check there are no duplicates"
   ]
  },
  {
   "cell_type": "code",
   "execution_count": 24,
   "metadata": {},
   "outputs": [
    {
     "data": {
      "application/vnd.jupyter.widget-view+json": {
       "model_id": "dbb55fe0f12047749678c5534275e65f",
       "version_major": 2,
       "version_minor": 0
      },
      "text/plain": [
       "VBox()"
      ]
     },
     "metadata": {},
     "output_type": "display_data"
    },
    {
     "data": {
      "application/vnd.jupyter.widget-view+json": {
       "model_id": "",
       "version_major": 2,
       "version_minor": 0
      },
      "text/plain": [
       "FloatProgress(value=0.0, bar_style='info', description='Progress:', layout=Layout(height='25px', width='50%'),…"
      ]
     },
     "metadata": {},
     "output_type": "display_data"
    },
    {
     "name": "stdout",
     "output_type": "stream",
     "text": [
      "df_ref2ens: org.apache.spark.sql.Dataset[org.apache.spark.sql.Row] = [TranscriptID: string, RefSeq: string]\n"
     ]
    }
   ],
   "source": [
    "val df_ref2ens = df_ens2ref.filter($\"RefSeq\".isNotNull).select(\"TranscriptID\",\"RefSeq\").sort($\"TranscriptID\").distinct"
   ]
  },
  {
   "cell_type": "code",
   "execution_count": 25,
   "metadata": {},
   "outputs": [
    {
     "data": {
      "application/vnd.jupyter.widget-view+json": {
       "model_id": "aa54d43ddc814415baca768fd9238250",
       "version_major": 2,
       "version_minor": 0
      },
      "text/plain": [
       "VBox()"
      ]
     },
     "metadata": {},
     "output_type": "display_data"
    },
    {
     "data": {
      "application/vnd.jupyter.widget-view+json": {
       "model_id": "",
       "version_major": 2,
       "version_minor": 0
      },
      "text/plain": [
       "FloatProgress(value=0.0, bar_style='info', description='Progress:', layout=Layout(height='25px', width='50%'),…"
      ]
     },
     "metadata": {},
     "output_type": "display_data"
    },
    {
     "name": "stdout",
     "output_type": "stream",
     "text": [
      "+---------------+------------+\n",
      "|   TranscriptID|      RefSeq|\n",
      "+---------------+------------+\n",
      "|ENST00000000233|   NM_001662|\n",
      "|ENST00000000412|   NM_002355|\n",
      "|ENST00000000442|   NM_004451|\n",
      "|ENST00000000442|NM_001282451|\n",
      "|ENST00000001008|   NM_002014|\n",
      "|ENST00000001146|   NM_019885|\n",
      "|ENST00000002125|   NM_144736|\n",
      "|ENST00000002125|NM_001350024|\n",
      "|ENST00000002125|NM_001350025|\n",
      "|ENST00000002165|   NM_032020|\n",
      "|ENST00000002501|NM_001042610|\n",
      "|ENST00000002596|   NM_005114|\n",
      "|ENST00000002829|   NM_004186|\n",
      "|ENST00000003084|   NM_000492|\n",
      "|ENST00000003100|   NM_000786|\n",
      "|ENST00000003302|NM_001346259|\n",
      "|ENST00000003302|NM_001346257|\n",
      "|ENST00000003302|NM_001346253|\n",
      "|ENST00000003302|NM_001346258|\n",
      "|ENST00000003302|   NM_020886|\n",
      "+---------------+------------+\n",
      "only showing top 20 rows\n",
      "\n"
     ]
    }
   ],
   "source": [
    "df_ref2ens.show"
   ]
  },
  {
   "cell_type": "code",
   "execution_count": 26,
   "metadata": {},
   "outputs": [
    {
     "data": {
      "application/vnd.jupyter.widget-view+json": {
       "model_id": "9f97fc831ff4419ab7a6f8e196ae5682",
       "version_major": 2,
       "version_minor": 0
      },
      "text/plain": [
       "VBox()"
      ]
     },
     "metadata": {},
     "output_type": "display_data"
    },
    {
     "data": {
      "application/vnd.jupyter.widget-view+json": {
       "model_id": "",
       "version_major": 2,
       "version_minor": 0
      },
      "text/plain": [
       "FloatProgress(value=0.0, bar_style='info', description='Progress:', layout=Layout(height='25px', width='50%'),…"
      ]
     },
     "metadata": {},
     "output_type": "display_data"
    },
    {
     "name": "stdout",
     "output_type": "stream",
     "text": [
      "res15: Long = 61733\n"
     ]
    }
   ],
   "source": [
    "df_ref2ens.count"
   ]
  },
  {
   "cell_type": "code",
   "execution_count": 27,
   "metadata": {},
   "outputs": [
    {
     "data": {
      "application/vnd.jupyter.widget-view+json": {
       "model_id": "e6a9403ffc6c4659a6fdae414f149a8b",
       "version_major": 2,
       "version_minor": 0
      },
      "text/plain": [
       "VBox()"
      ]
     },
     "metadata": {},
     "output_type": "display_data"
    },
    {
     "data": {
      "application/vnd.jupyter.widget-view+json": {
       "model_id": "",
       "version_major": 2,
       "version_minor": 0
      },
      "text/plain": [
       "FloatProgress(value=0.0, bar_style='info', description='Progress:', layout=Layout(height='25px', width='50%'),…"
      ]
     },
     "metadata": {},
     "output_type": "display_data"
    },
    {
     "name": "stdout",
     "output_type": "stream",
     "text": [
      "res16: Long = 56317\n"
     ]
    }
   ],
   "source": [
    "df_ref2ens.select($\"RefSeq\").distinct.count"
   ]
  },
  {
   "cell_type": "code",
   "execution_count": 28,
   "metadata": {},
   "outputs": [
    {
     "data": {
      "application/vnd.jupyter.widget-view+json": {
       "model_id": "72204fcf89664f3496006c178ca1dd20",
       "version_major": 2,
       "version_minor": 0
      },
      "text/plain": [
       "VBox()"
      ]
     },
     "metadata": {},
     "output_type": "display_data"
    },
    {
     "data": {
      "application/vnd.jupyter.widget-view+json": {
       "model_id": "",
       "version_major": 2,
       "version_minor": 0
      },
      "text/plain": [
       "FloatProgress(value=0.0, bar_style='info', description='Progress:', layout=Layout(height='25px', width='50%'),…"
      ]
     },
     "metadata": {},
     "output_type": "display_data"
    },
    {
     "name": "stdout",
     "output_type": "stream",
     "text": [
      "+------------+-----+\n",
      "|      RefSeq|count|\n",
      "+------------+-----+\n",
      "|NM_001242867|   25|\n",
      "|   NM_006737|   25|\n",
      "|   NM_153443|   23|\n",
      "|NM_001080770|   22|\n",
      "|   NM_015868|   21|\n",
      "|   NM_014218|   19|\n",
      "|   NM_002255|   19|\n",
      "|NM_001145458|   17|\n",
      "|NM_001145457|   16|\n",
      "|NM_001242357|   16|\n",
      "|   NM_004829|   16|\n",
      "|NM_001281971|   15|\n",
      "|NM_001281972|   15|\n",
      "|NM_001080772|   14|\n",
      "|NM_001322168|   14|\n",
      "|   NM_012314|   13|\n",
      "|   NM_002000|   11|\n",
      "|   NM_133274|   11|\n",
      "|   NM_133271|   11|\n",
      "|   NM_133269|   11|\n",
      "+------------+-----+\n",
      "only showing top 20 rows\n",
      "\n"
     ]
    }
   ],
   "source": [
    "df_ref2ens.groupBy($\"RefSeq\").count.sort($\"count\".desc).show"
   ]
  },
  {
   "cell_type": "markdown",
   "metadata": {},
   "source": [
    "## gnomAD lof metrics by transcript"
   ]
  },
  {
   "cell_type": "markdown",
   "metadata": {},
   "source": [
    "We want to link the data to gnomAD constraint metrics (LOEUF and pLI):\n",
    "\n",
    "Supplemental Table describing data fields:\n",
    "\n",
    "https://static-content.springer.com/esm/art%3A10.1038%2Fs41586-020-2308-7/MediaObjects/41586_2020_2308_MOESM1_ESM.pdf\n",
    "\n",
    "Select the following columns from the main file:\n",
    "\n",
    "* **gene**: Gene name\n",
    "* **gene_id**: Ensembl gene ID\n",
    "* **transcript**: Ensembl transcript ID (Gencode v19)\n",
    "* **obs_mis**: Number of observed missense variants in transcript\n",
    "* **exp_mis**: Number of expected missense variants in transcript\n",
    "* **oe_mis**: Observed over expected ratio for missense variants in transcript (obs_mis divided by exp_mis)\n",
    "* **obs_syn**: Number of observed synonymous variants in transcript\n",
    "* **exp_syn**: Number of expected synonymous variants in transcript\n",
    "* **oe_syn**: Observed over expected ratio for missense variants in transcript (obs_syn divided by exp_syn)\n",
    "\n",
    "* **p**: The estimated proportion of haplotypes with a pLoF variant. Defined as: 1 -sqrt(no_lofs / defined)\n",
    "* **pLI**: Probability of loss-of-function intolerance; probability that transcript falls into distribution of haploinsufficient genes (~9% o/e pLoF ratio; computed from gnomAD data)\n",
    "\n",
    "* **pRec**: Probability that transcript falls into distribution of recessive genes (~46% o/e pLoF ratio; computed from gnomAD data)\n",
    "* **pNull**: Probability that transcript falls into distribution of unconstrained genes (~100% o/epLoF ratio; computed from gnomAD data)\n",
    "* **oe_lof_upper**: LOEUF: upper bound of 90% confidence interval for o/e ratio for pLoF variants (lower values indicate more constrained)\n",
    "* **oe_lof_upper_rank**: Transcript’s rank of LOEUF value compared to all transcripts (lower values indicate more constrained)\n",
    "* **oe_lof_upper_bin**: Decile bin of LOEUF for given transcript (lower values indicate more constrained)"
   ]
  },
  {
   "cell_type": "code",
   "execution_count": 29,
   "metadata": {},
   "outputs": [
    {
     "data": {
      "application/vnd.jupyter.widget-view+json": {
       "model_id": "9ca3fbd5699644cabf47c0aead9c37a4",
       "version_major": 2,
       "version_minor": 0
      },
      "text/plain": [
       "VBox()"
      ]
     },
     "metadata": {},
     "output_type": "display_data"
    },
    {
     "data": {
      "application/vnd.jupyter.widget-view+json": {
       "model_id": "",
       "version_major": 2,
       "version_minor": 0
      },
      "text/plain": [
       "FloatProgress(value=0.0, bar_style='info', description='Progress:', layout=Layout(height='25px', width='50%'),…"
      ]
     },
     "metadata": {},
     "output_type": "display_data"
    },
    {
     "name": "stdout",
     "output_type": "stream",
     "text": [
      "cols_constraint: Seq[String] = List(gene, gene_id, transcript, obs_mis, exp_mis, oe_mis, obs_syn, exp_syn, oe_syn, p, pLI, pRec, pNull, oe_lof_upper, oe_lof_upper_rank, oe_lof_upper_bin)\n"
     ]
    }
   ],
   "source": [
    "val cols_constraint = Seq(\"gene\",\"gene_id\",\"transcript\",\"obs_mis\",\"exp_mis\",\"oe_mis\",\"obs_syn\",\"exp_syn\",\"oe_syn\",\n",
    "                          \"p\",\"pLI\",\"pRec\",\"pNull\",\"oe_lof_upper\",\"oe_lof_upper_rank\",\"oe_lof_upper_bin\")"
   ]
  },
  {
   "cell_type": "code",
   "execution_count": 30,
   "metadata": {},
   "outputs": [
    {
     "data": {
      "application/vnd.jupyter.widget-view+json": {
       "model_id": "5cdd64a5307d45739743cb7031bebc21",
       "version_major": 2,
       "version_minor": 0
      },
      "text/plain": [
       "VBox()"
      ]
     },
     "metadata": {},
     "output_type": "display_data"
    },
    {
     "data": {
      "application/vnd.jupyter.widget-view+json": {
       "model_id": "",
       "version_major": 2,
       "version_minor": 0
      },
      "text/plain": [
       "FloatProgress(value=0.0, bar_style='info', description='Progress:', layout=Layout(height='25px', width='50%'),…"
      ]
     },
     "metadata": {},
     "output_type": "display_data"
    },
    {
     "name": "stdout",
     "output_type": "stream",
     "text": [
      "df_loft_import: org.apache.spark.sql.DataFrame = [gene: string, gene_id: string ... 14 more fields]\n"
     ]
    }
   ],
   "source": [
    "val df_loft_import = (spark.read\n",
    "        .format(\"csv\")\n",
    "        .option(\"header\", \"true\")\n",
    "        .option(\"delimiter\", \"\\t\")\n",
    "        .option(\"inferSchema\", \"true\")\n",
    "        .option(\"nullValues\", \"NA\")\n",
    "        .option(\"nanValue=\", \"NA\")\n",
    "        .load(\"s3://nch-igm-research-projects/rna_stability/peter/gnomad.v2.1.1.lof_metrics.by_transcript.txt\")\n",
    "        .select(cols_constraint.map(col): _*)\n",
    "             )"
   ]
  },
  {
   "cell_type": "code",
   "execution_count": 31,
   "metadata": {},
   "outputs": [
    {
     "data": {
      "application/vnd.jupyter.widget-view+json": {
       "model_id": "c8a6440864e24281aaa3c4de1491dcc5",
       "version_major": 2,
       "version_minor": 0
      },
      "text/plain": [
       "VBox()"
      ]
     },
     "metadata": {},
     "output_type": "display_data"
    },
    {
     "data": {
      "application/vnd.jupyter.widget-view+json": {
       "model_id": "",
       "version_major": 2,
       "version_minor": 0
      },
      "text/plain": [
       "FloatProgress(value=0.0, bar_style='info', description='Progress:', layout=Layout(height='25px', width='50%'),…"
      ]
     },
     "metadata": {},
     "output_type": "display_data"
    },
    {
     "name": "stdout",
     "output_type": "stream",
     "text": [
      "df_loft: org.apache.spark.sql.DataFrame = [gnomadGeneSymbol: string, gnomadGeneID: string ... 14 more fields]\n",
      "root\n",
      " |-- gnomadGeneSymbol: string (nullable = true)\n",
      " |-- gnomadGeneID: string (nullable = true)\n",
      " |-- TranscriptID: string (nullable = true)\n",
      " |-- obs_mis: string (nullable = true)\n",
      " |-- exp_mis: string (nullable = true)\n",
      " |-- oe_mis: string (nullable = true)\n",
      " |-- obs_syn: string (nullable = true)\n",
      " |-- exp_syn: string (nullable = true)\n",
      " |-- oe_syn: string (nullable = true)\n",
      " |-- p: double (nullable = true)\n",
      " |-- pLI: double (nullable = true)\n",
      " |-- pRec: double (nullable = true)\n",
      " |-- pNull: double (nullable = true)\n",
      " |-- oe_lof_upper: double (nullable = true)\n",
      " |-- oe_lof_upper_rank: integer (nullable = true)\n",
      " |-- oe_lof_upper_bin: integer (nullable = true)\n",
      "\n"
     ]
    }
   ],
   "source": [
    "val df_loft = (df_loft_import.withColumn(\"p\",col(\"p\").cast(DoubleType))\n",
    "                    .withColumn(\"pLI\",col(\"pLI\").cast(DoubleType))\n",
    "                    .withColumn(\"pRec\",col(\"pRec\").cast(DoubleType))\n",
    "                    .withColumn(\"pNull\",col(\"pNull\").cast(DoubleType))\n",
    "                    .withColumn(\"oe_lof_upper\",col(\"oe_lof_upper\").cast(DoubleType))\n",
    "                    .withColumn(\"oe_lof_upper_rank\",col(\"oe_lof_upper_rank\").cast(IntegerType))\n",
    "                    .withColumn(\"oe_lof_upper_bin\",col(\"oe_lof_upper_bin\").cast(IntegerType))\n",
    "                    .withColumnRenamed(\"gene\", \"gnomadGeneSymbol\")\n",
    "                    .withColumnRenamed(\"gene_id\", \"gnomadGeneID\")\n",
    "                    .withColumnRenamed(\"transcript\", \"TranscriptID\")               \n",
    "             )   \n",
    "df_loft.printSchema"
   ]
  },
  {
   "cell_type": "code",
   "execution_count": 32,
   "metadata": {},
   "outputs": [
    {
     "data": {
      "application/vnd.jupyter.widget-view+json": {
       "model_id": "588f517aa8164934b8e16728539573c7",
       "version_major": 2,
       "version_minor": 0
      },
      "text/plain": [
       "VBox()"
      ]
     },
     "metadata": {},
     "output_type": "display_data"
    },
    {
     "data": {
      "application/vnd.jupyter.widget-view+json": {
       "model_id": "",
       "version_major": 2,
       "version_minor": 0
      },
      "text/plain": [
       "FloatProgress(value=0.0, bar_style='info', description='Progress:', layout=Layout(height='25px', width='50%'),…"
      ]
     },
     "metadata": {},
     "output_type": "display_data"
    },
    {
     "name": "stdout",
     "output_type": "stream",
     "text": [
      "+----------------+---------------+---------------+-------+----------+----------+-------+----------+----------+---------+----------+--------+---------+------------+-----------------+----------------+\n",
      "|gnomadGeneSymbol|   gnomadGeneID|   TranscriptID|obs_mis|   exp_mis|    oe_mis|obs_syn|   exp_syn|    oe_syn|        p|       pLI|    pRec|    pNull|oe_lof_upper|oe_lof_upper_rank|oe_lof_upper_bin|\n",
      "+----------------+---------------+---------------+-------+----------+----------+-------+----------+----------+---------+----------+--------+---------+------------+-----------------+----------------+\n",
      "|           TUBB3|ENSG00000258947|ENST00000304984|     67|2.5624e+02|2.6148e-01|    147|1.1855e+02|1.2400e+00|1.1932E-5|   0.81145| 0.18766| 8.854E-4|        0.48|            17235|               2|\n",
      "|           TUBB3|ENSG00000258947|ENST00000315491|     77|3.0026e+02|2.5644e-01|    172|1.3880e+02|1.2392e+00|1.1932E-5|   0.96761|0.032378|9.5178E-6|       0.315|             9211|               1|\n",
      "|           TUBB3|ENSG00000258947|ENST00000553967|     50|9.4482e+01|5.2920e-01|     46|3.9375e+01|1.1682e+00|      0.0|     0.634| 0.33956| 0.026441|        0.92|            38184|               4|\n",
      "|           TUBB3|ENSG00000258947|ENST00000554336|     30|7.0185e+01|4.2744e-01|     36|2.8590e+01|1.2592e+00|      0.0|   0.85367| 0.14419|0.0021414|       0.475|            16987|               2|\n",
      "|           TUBB3|ENSG00000258947|ENST00000554444|     67|2.5624e+02|2.6148e-01|    147|1.1855e+02|1.2400e+00|1.1932E-5|   0.81145| 0.18766| 8.854E-4|        0.48|            17236|               2|\n",
      "|           TUBB3|ENSG00000258947|ENST00000555576|     14|5.9361e+01|2.3584e-01|     30|2.5410e+01|1.1806e+00|      0.0|   0.52249| 0.46252| 0.014994|       0.754|            30077|               3|\n",
      "|           TUBB3|ENSG00000258947|ENST00000555810|     22|1.2496e+02|1.7606e-01|     73|5.9502e+01|1.2269e+00|3.9807E-6|   0.78651| 0.20763|0.0058548|       0.585|            22156|               2|\n",
      "|           TUBB3|ENSG00000258947|ENST00000556565|      5|2.8897e+01|1.7303e-01|     14|1.3016e+01|1.0756e+00|      0.0|   0.43947| 0.46452| 0.096001|        1.59|            64851|               8|\n",
      "|           TUBB3|ENSG00000198211|ENST00000556922|    400|5.1384e+02|7.7845e-01|    322|2.4745e+02|1.3013e+00|0.0039084|2.5676E-10| 0.45782|  0.54218|       1.114|            47289|               5|\n",
      "+----------------+---------------+---------------+-------+----------+----------+-------+----------+----------+---------+----------+--------+---------+------------+-----------------+----------------+\n",
      "\n"
     ]
    }
   ],
   "source": [
    "df_loft.filter($\"gene\" === \"TUBB3\").show"
   ]
  },
  {
   "cell_type": "markdown",
   "metadata": {},
   "source": [
    "Lets check that TranscriptID is not duplicated"
   ]
  },
  {
   "cell_type": "code",
   "execution_count": 33,
   "metadata": {},
   "outputs": [
    {
     "data": {
      "application/vnd.jupyter.widget-view+json": {
       "model_id": "1a620f834ce34f57bf68c00e5ccb7ac5",
       "version_major": 2,
       "version_minor": 0
      },
      "text/plain": [
       "VBox()"
      ]
     },
     "metadata": {},
     "output_type": "display_data"
    },
    {
     "data": {
      "application/vnd.jupyter.widget-view+json": {
       "model_id": "",
       "version_major": 2,
       "version_minor": 0
      },
      "text/plain": [
       "FloatProgress(value=0.0, bar_style='info', description='Progress:', layout=Layout(height='25px', width='50%'),…"
      ]
     },
     "metadata": {},
     "output_type": "display_data"
    },
    {
     "name": "stdout",
     "output_type": "stream",
     "text": [
      "res20: Long = 80950\n"
     ]
    }
   ],
   "source": [
    "df_loft.select($\"TranscriptID\").distinct.count"
   ]
  },
  {
   "cell_type": "code",
   "execution_count": 34,
   "metadata": {},
   "outputs": [
    {
     "data": {
      "application/vnd.jupyter.widget-view+json": {
       "model_id": "30f5e9d8c5bb42c8ae7dc8e57927d5ff",
       "version_major": 2,
       "version_minor": 0
      },
      "text/plain": [
       "VBox()"
      ]
     },
     "metadata": {},
     "output_type": "display_data"
    },
    {
     "data": {
      "application/vnd.jupyter.widget-view+json": {
       "model_id": "",
       "version_major": 2,
       "version_minor": 0
      },
      "text/plain": [
       "FloatProgress(value=0.0, bar_style='info', description='Progress:', layout=Layout(height='25px', width='50%'),…"
      ]
     },
     "metadata": {},
     "output_type": "display_data"
    },
    {
     "name": "stdout",
     "output_type": "stream",
     "text": [
      "res21: Long = 80950\n"
     ]
    }
   ],
   "source": [
    "df_loft.count"
   ]
  },
  {
   "cell_type": "code",
   "execution_count": 35,
   "metadata": {},
   "outputs": [
    {
     "data": {
      "application/vnd.jupyter.widget-view+json": {
       "model_id": "25f09fc03a50468ea2fdab607c10440b",
       "version_major": 2,
       "version_minor": 0
      },
      "text/plain": [
       "VBox()"
      ]
     },
     "metadata": {},
     "output_type": "display_data"
    },
    {
     "data": {
      "application/vnd.jupyter.widget-view+json": {
       "model_id": "",
       "version_major": 2,
       "version_minor": 0
      },
      "text/plain": [
       "FloatProgress(value=0.0, bar_style='info', description='Progress:', layout=Layout(height='25px', width='50%'),…"
      ]
     },
     "metadata": {},
     "output_type": "display_data"
    },
    {
     "name": "stdout",
     "output_type": "stream",
     "text": [
      "+----------------+---------+-------+------------+-----------------+----------------+\n",
      "|gnomadGeneSymbol|        p|    pLI|oe_lof_upper|oe_lof_upper_rank|oe_lof_upper_bin|\n",
      "+----------------+---------+-------+------------+-----------------+----------------+\n",
      "|           AP2S1|      0.0|0.89998|       0.402|            13402|               1|\n",
      "|           ELMO1|5.5669E-5|0.89997|       0.333|            10049|               1|\n",
      "|           ELMO1|5.5669E-5|0.89997|       0.333|            10048|               1|\n",
      "|           ELMO1|5.5669E-5|0.89997|       0.333|            10050|               1|\n",
      "|          RANBP3|4.0869E-6|0.89994|       0.401|            13373|               1|\n",
      "|            MEN1|      0.0| 0.8999|       0.402|            13398|               1|\n",
      "|         RUNX1T1|3.9864E-6|0.89987|       0.402|            13374|               1|\n",
      "|            OGDH|5.5668E-5|0.89984|       0.329|             9852|               1|\n",
      "|            ETS1|7.9536E-6|0.89984|       0.388|            12751|               1|\n",
      "|           TCF20|3.9786E-6|0.89983|       0.402|            13391|               1|\n",
      "|          RMND5A|2.7834E-5|0.89983|       0.375|            12085|               1|\n",
      "|         KHDRBS3|7.9587E-6|0.89983|       0.402|            13409|               1|\n",
      "|           BCL6B| 1.202E-5|0.89981|       0.402|            13380|               1|\n",
      "|            FOSB|8.1999E-6|0.89975|       0.401|            13366|               1|\n",
      "|         SLC38A1|2.4046E-5|0.89971|       0.365|            11609|               1|\n",
      "|            ARF1|1.5925E-5|0.89967|       0.402|            13376|               1|\n",
      "|            ARF1|1.5925E-5|0.89967|       0.402|            13375|               1|\n",
      "|            ARF1|1.5925E-5|0.89967|       0.402|            13383|               1|\n",
      "|           AP1B1| 8.748E-5| 0.8996|       0.338|            10276|               1|\n",
      "|           CDC16|8.3504E-5|0.89956|       0.357|            11208|               1|\n",
      "+----------------+---------+-------+------------+-----------------+----------------+\n",
      "only showing top 20 rows\n",
      "\n"
     ]
    }
   ],
   "source": [
    "df_loft.filter($\"p\".isNotNull && $\"pLI\" < 0.9).\n",
    "        select(\"gnomadGeneSymbol\",\"p\",\"pLI\",\"oe_lof_upper\",\"oe_lof_upper_rank\",\"oe_lof_upper_bin\").sort($\"pLI\".desc).show"
   ]
  },
  {
   "cell_type": "markdown",
   "metadata": {},
   "source": [
    "## Join gnomAD lof table to RefSeq to Ensembl table"
   ]
  },
  {
   "cell_type": "code",
   "execution_count": 36,
   "metadata": {},
   "outputs": [
    {
     "data": {
      "application/vnd.jupyter.widget-view+json": {
       "model_id": "ae80282cc9d442bca75c0f8f21ad844b",
       "version_major": 2,
       "version_minor": 0
      },
      "text/plain": [
       "VBox()"
      ]
     },
     "metadata": {},
     "output_type": "display_data"
    },
    {
     "data": {
      "application/vnd.jupyter.widget-view+json": {
       "model_id": "",
       "version_major": 2,
       "version_minor": 0
      },
      "text/plain": [
       "FloatProgress(value=0.0, bar_style='info', description='Progress:', layout=Layout(height='25px', width='50%'),…"
      ]
     },
     "metadata": {},
     "output_type": "display_data"
    },
    {
     "name": "stdout",
     "output_type": "stream",
     "text": [
      "df_loft_ref: org.apache.spark.sql.DataFrame = [gnomadGeneSymbol: string, gnomadGeneID: string ... 15 more fields]\n"
     ]
    }
   ],
   "source": [
    "val df_loft_ref = (df_loft.as(\"df_loft\")\n",
    "                       .join(df_ref2ens.as(\"df_ref2ens\"), $\"df_loft.TranscriptID\" === $\"df_ref2ens.TranscriptID\", \"inner\")\n",
    "                       .drop($\"df_ref2ens.TranscriptID\"))"
   ]
  },
  {
   "cell_type": "markdown",
   "metadata": {},
   "source": [
    "Note that the number of rows has now increased from 80,950 to 95,806 - this is becuase ensemble transcripts can map to multiple RefSeq transcripts and vice versa. We now need to make a table where the RefSeq field is not duplicated."
   ]
  },
  {
   "cell_type": "code",
   "execution_count": 37,
   "metadata": {},
   "outputs": [
    {
     "data": {
      "application/vnd.jupyter.widget-view+json": {
       "model_id": "f3c330e41d7a437388164a23c9060a16",
       "version_major": 2,
       "version_minor": 0
      },
      "text/plain": [
       "VBox()"
      ]
     },
     "metadata": {},
     "output_type": "display_data"
    },
    {
     "data": {
      "application/vnd.jupyter.widget-view+json": {
       "model_id": "",
       "version_major": 2,
       "version_minor": 0
      },
      "text/plain": [
       "FloatProgress(value=0.0, bar_style='info', description='Progress:', layout=Layout(height='25px', width='50%'),…"
      ]
     },
     "metadata": {},
     "output_type": "display_data"
    },
    {
     "name": "stdout",
     "output_type": "stream",
     "text": [
      "+------------+-----+\n",
      "|      RefSeq|count|\n",
      "+------------+-----+\n",
      "|NM_001190455|    2|\n",
      "|   NM_032862|    2|\n",
      "|NM_001122631|    2|\n",
      "|   NM_206955|    2|\n",
      "|   NM_145021|    2|\n",
      "|NM_001291304|    2|\n",
      "|NM_001289026|    2|\n",
      "|NM_001009606|    2|\n",
      "|   NM_133262|    2|\n",
      "|NM_001289759|    2|\n",
      "|NM_001122630|    2|\n",
      "|NM_001291717|    2|\n",
      "|NM_001284499|    2|\n",
      "|NM_001162914|    2|\n",
      "|NM_001282866|    2|\n",
      "|   NM_000746|    2|\n",
      "|NM_001191323|    2|\n",
      "|NM_001002266|    2|\n",
      "|   NM_024618|    1|\n",
      "|   NM_018899|    1|\n",
      "+------------+-----+\n",
      "only showing top 20 rows\n",
      "\n"
     ]
    }
   ],
   "source": [
    "df_loft_ref.groupBy($\"RefSeq\").count.sort($\"count\".desc).show"
   ]
  },
  {
   "cell_type": "markdown",
   "metadata": {},
   "source": [
    "For duplicate RefSeq's we will choose the value with the highest pLI value (i.e. most contrained) and where pLI is the same lowest oef rank (i.e. most constrained)."
   ]
  },
  {
   "cell_type": "code",
   "execution_count": 38,
   "metadata": {},
   "outputs": [
    {
     "data": {
      "application/vnd.jupyter.widget-view+json": {
       "model_id": "fbec3f30160a4a3ba27da52866751514",
       "version_major": 2,
       "version_minor": 0
      },
      "text/plain": [
       "VBox()"
      ]
     },
     "metadata": {},
     "output_type": "display_data"
    },
    {
     "data": {
      "application/vnd.jupyter.widget-view+json": {
       "model_id": "",
       "version_major": 2,
       "version_minor": 0
      },
      "text/plain": [
       "FloatProgress(value=0.0, bar_style='info', description='Progress:', layout=Layout(height='25px', width='50%'),…"
      ]
     },
     "metadata": {},
     "output_type": "display_data"
    },
    {
     "name": "stdout",
     "output_type": "stream",
     "text": [
      "+----------------+---------------+---------------+-------+----------+----------+-------+----------+----------+---------+---------+-------+-------+------------+-----------------+----------------+---------+\n",
      "|gnomadGeneSymbol|   gnomadGeneID|   TranscriptID|obs_mis|   exp_mis|    oe_mis|obs_syn|   exp_syn|    oe_syn|        p|      pLI|   pRec|  pNull|oe_lof_upper|oe_lof_upper_rank|oe_lof_upper_bin|   RefSeq|\n",
      "+----------------+---------------+---------------+-------+----------+----------+-------+----------+----------+---------+---------+-------+-------+------------+-----------------+----------------+---------+\n",
      "|          MARCH8|ENSG00000165406|ENST00000319836|    124|1.6106e+02|7.6989e-01|     56|6.3569e+01|8.8094e-01|9.1457E-5|5.8689E-7|0.44685|0.55315|       1.314|            55585|               7|NM_145021|\n",
      "|          MARCH8|ENSG00000165406|ENST00000395771|    124|1.6106e+02|7.6989e-01|     56|6.3569e+01|8.8094e-01|9.1457E-5|5.8689E-7|0.44685|0.55315|       1.314|            55587|               7|NM_145021|\n",
      "|           PRAME|ENSG00000185686|ENST00000405655|    323|2.8191e+02|1.1457e+00|    135|1.1874e+02|1.1369e+00| 1.591E-4| 2.394E-7|0.49065|0.50935|       1.246|            52855|               6|NM_206955|\n",
      "|           PRAME|ENSG00000185686|ENST00000539862|    314|2.7134e+02|1.1572e+00|    132|1.1619e+02|1.1360e+00|1.3125E-4|1.3703E-6|0.39624|0.60376|       1.407|            58927|               7|NM_206955|\n",
      "+----------------+---------------+---------------+-------+----------+----------+-------+----------+----------+---------+---------+-------+-------+------------+-----------------+----------------+---------+\n",
      "\n"
     ]
    }
   ],
   "source": [
    "df_loft_ref.filter($\"RefSeq\" === \"NM_206955\" || $\"RefSeq\" === \"NM_145021\").show"
   ]
  },
  {
   "cell_type": "code",
   "execution_count": 39,
   "metadata": {},
   "outputs": [
    {
     "data": {
      "application/vnd.jupyter.widget-view+json": {
       "model_id": "8620a8a8ac6b4e1b9b5751d4cddb98e8",
       "version_major": 2,
       "version_minor": 0
      },
      "text/plain": [
       "VBox()"
      ]
     },
     "metadata": {},
     "output_type": "display_data"
    },
    {
     "data": {
      "application/vnd.jupyter.widget-view+json": {
       "model_id": "",
       "version_major": 2,
       "version_minor": 0
      },
      "text/plain": [
       "FloatProgress(value=0.0, bar_style='info', description='Progress:', layout=Layout(height='25px', width='50%'),…"
      ]
     },
     "metadata": {},
     "output_type": "display_data"
    },
    {
     "name": "stdout",
     "output_type": "stream",
     "text": [
      "df_high_pLI: org.apache.spark.sql.DataFrame = [RefSeq: string, max(pLI): double ... 1 more field]\n"
     ]
    }
   ],
   "source": [
    "val df_high_pLI = df_loft_ref.groupBy($\"RefSeq\").agg(max($\"pLI\"), min($\"oe_lof_upper_rank\"))"
   ]
  },
  {
   "cell_type": "code",
   "execution_count": 40,
   "metadata": {},
   "outputs": [
    {
     "data": {
      "application/vnd.jupyter.widget-view+json": {
       "model_id": "5f403ca43d9e42cfb7eeb701fefbbb4d",
       "version_major": 2,
       "version_minor": 0
      },
      "text/plain": [
       "VBox()"
      ]
     },
     "metadata": {},
     "output_type": "display_data"
    },
    {
     "data": {
      "application/vnd.jupyter.widget-view+json": {
       "model_id": "",
       "version_major": 2,
       "version_minor": 0
      },
      "text/plain": [
       "FloatProgress(value=0.0, bar_style='info', description='Progress:', layout=Layout(height='25px', width='50%'),…"
      ]
     },
     "metadata": {},
     "output_type": "display_data"
    },
    {
     "name": "stdout",
     "output_type": "stream",
     "text": [
      "+---------+---------+----------------------+\n",
      "|   RefSeq| max(pLI)|min(oe_lof_upper_rank)|\n",
      "+---------+---------+----------------------+\n",
      "|NM_206955|1.3703E-6|                 52855|\n",
      "|NM_145021|5.8689E-7|                 55585|\n",
      "+---------+---------+----------------------+\n",
      "\n"
     ]
    }
   ],
   "source": [
    "df_high_pLI.filter($\"RefSeq\" === \"NM_206955\" || $\"RefSeq\" === \"NM_145021\").show"
   ]
  },
  {
   "cell_type": "markdown",
   "metadata": {},
   "source": [
    "Finally, create a table with unique RefSeq by joining to high pLI table"
   ]
  },
  {
   "cell_type": "code",
   "execution_count": 41,
   "metadata": {},
   "outputs": [
    {
     "data": {
      "application/vnd.jupyter.widget-view+json": {
       "model_id": "f5c3de183202417eb730dd1aab2e405d",
       "version_major": 2,
       "version_minor": 0
      },
      "text/plain": [
       "VBox()"
      ]
     },
     "metadata": {},
     "output_type": "display_data"
    },
    {
     "data": {
      "application/vnd.jupyter.widget-view+json": {
       "model_id": "",
       "version_major": 2,
       "version_minor": 0
      },
      "text/plain": [
       "FloatProgress(value=0.0, bar_style='info', description='Progress:', layout=Layout(height='25px', width='50%'),…"
      ]
     },
     "metadata": {},
     "output_type": "display_data"
    },
    {
     "name": "stdout",
     "output_type": "stream",
     "text": [
      "df_loft_ref_uniq: org.apache.spark.sql.DataFrame = [gnomadGeneSymbol: string, gnomadGeneID: string ... 15 more fields]\n"
     ]
    }
   ],
   "source": [
    "val df_loft_ref_uniq = ( df_loft_ref.join(df_high_pLI.as(\"pli\"),\n",
    "                                          df_loft_ref(\"RefSeq\") === df_high_pLI(\"RefSeq\") && \n",
    "                                          df_loft_ref(\"pLI\") === df_high_pLI(\"max(pLI)\") &&\n",
    "                                          df_loft_ref(\"oe_lof_upper_rank\") === df_high_pLI(\"min(oe_lof_upper_rank)\"),\n",
    "                                              \"inner\")\n",
    "                         .drop($\"pli.RefSeq\").drop($\"pli.max(pLI)\").drop($\"pli.min(oe_lof_upper_rank)\") )"
   ]
  },
  {
   "cell_type": "code",
   "execution_count": 42,
   "metadata": {},
   "outputs": [
    {
     "data": {
      "application/vnd.jupyter.widget-view+json": {
       "model_id": "57417a871917482fb6f0c28eb1fb7dd6",
       "version_major": 2,
       "version_minor": 0
      },
      "text/plain": [
       "VBox()"
      ]
     },
     "metadata": {},
     "output_type": "display_data"
    },
    {
     "data": {
      "application/vnd.jupyter.widget-view+json": {
       "model_id": "",
       "version_major": 2,
       "version_minor": 0
      },
      "text/plain": [
       "FloatProgress(value=0.0, bar_style='info', description='Progress:', layout=Layout(height='25px', width='50%'),…"
      ]
     },
     "metadata": {},
     "output_type": "display_data"
    },
    {
     "name": "stdout",
     "output_type": "stream",
     "text": [
      "+------------+-----+\n",
      "|      RefSeq|count|\n",
      "+------------+-----+\n",
      "|NM_001321544|    1|\n",
      "|NM_001351544|    1|\n",
      "|   NM_133371|    1|\n",
      "|NM_001352944|    1|\n",
      "|   NM_032801|    1|\n",
      "|NM_001168272|    1|\n",
      "|   NM_052939|    1|\n",
      "|   NM_001446|    1|\n",
      "|   NM_006032|    1|\n",
      "|   NM_172357|    1|\n",
      "|NM_001363944|    1|\n",
      "|NM_001287756|    1|\n",
      "|NM_001318239|    1|\n",
      "|NM_001366319|    1|\n",
      "|NM_001287221|    1|\n",
      "|NM_001370357|    1|\n",
      "|NM_001195055|    1|\n",
      "|   NM_153230|    1|\n",
      "|   NM_002562|    1|\n",
      "|   NM_003696|    1|\n",
      "+------------+-----+\n",
      "only showing top 20 rows\n",
      "\n"
     ]
    }
   ],
   "source": [
    "df_loft_ref_uniq.groupBy($\"RefSeq\").count.sort($\"count\".desc).show"
   ]
  },
  {
   "cell_type": "code",
   "execution_count": 43,
   "metadata": {},
   "outputs": [
    {
     "data": {
      "application/vnd.jupyter.widget-view+json": {
       "model_id": "6c7d20c3f57a4377bad06adc3a30054e",
       "version_major": 2,
       "version_minor": 0
      },
      "text/plain": [
       "VBox()"
      ]
     },
     "metadata": {},
     "output_type": "display_data"
    },
    {
     "data": {
      "application/vnd.jupyter.widget-view+json": {
       "model_id": "",
       "version_major": 2,
       "version_minor": 0
      },
      "text/plain": [
       "FloatProgress(value=0.0, bar_style='info', description='Progress:', layout=Layout(height='25px', width='50%'),…"
      ]
     },
     "metadata": {},
     "output_type": "display_data"
    },
    {
     "name": "stdout",
     "output_type": "stream",
     "text": [
      "+----------------+---------------+---------------+-------+----------+----------+-------+----------+----------+---------+----------+--------+---------+------------+-----------------+----------------+------------+\n",
      "|gnomadGeneSymbol|   gnomadGeneID|   TranscriptID|obs_mis|   exp_mis|    oe_mis|obs_syn|   exp_syn|    oe_syn|        p|       pLI|    pRec|    pNull|oe_lof_upper|oe_lof_upper_rank|oe_lof_upper_bin|      RefSeq|\n",
      "+----------------+---------------+---------------+-------+----------+----------+-------+----------+----------+---------+----------+--------+---------+------------+-----------------+----------------+------------+\n",
      "|          ZNF276|ENSG00000158805|ENST00000443381|    439|3.4651e+02|1.2669e+00|    222|1.4997e+02|1.4803e+00|1.5906E-4| 7.8951E-6| 0.99617|0.0038225|       0.752|            29987|               3|NM_001113525|\n",
      "|          HP1BP3|ENSG00000127483|ENST00000312239|    186|2.9258e+02|6.3572e-01|    125|1.1107e+02|1.1254e+00|3.5787E-5|   0.98422|0.015785|6.6087E-8|         0.3|             8375|               1|NM_001376790|\n",
      "|         CXorf65|ENSG00000204165|ENST00000374251|     69|7.3760e+01|9.3546e-01|     35|2.6745e+01|1.3087e+00|      0.0|   0.88329| 0.11552|0.0011882|       0.428|            14665|               1|NM_001025265|\n",
      "|            MADD|ENSG00000110514|ENST00000406482|    808|8.8829e+02|9.0962e-01|    357|3.4374e+02|1.0386e+00|3.1019E-4|5.4001E-12|     1.0|3.6312E-8|       0.568|            21388|               2|NM_001376652|\n",
      "|           XRCC3|ENSG00000126215|ENST00000555055|    192|2.0764e+02|9.2466e-01|    103|9.7207e+01|1.0596e+00|6.7603E-5|1.9134E-10| 0.03537|  0.96463|       1.721|            69202|               8|NM_001100119|\n",
      "|            IDH1|ENSG00000138413|ENST00000345146|    207|2.3296e+02|8.8858e-01|     72|8.2056e+01|8.7745e-01|1.7895E-4|2.6244E-12|0.073746|  0.92625|       1.327|            56053|               7|   NM_005896|\n",
      "|          FAM71C|ENSG00000180219|ENST00000324341|    152|1.3869e+02|1.0960e+00|     59|5.3215e+01|1.1087e+00|      0.0|   0.16671|  0.7778| 0.055486|       1.006|            42338|               5|   NM_153364|\n",
      "|             AES|ENSG00000104964|ENST00000327141|     41|1.1062e+02|3.7063e-01|     65|5.5796e+01|1.1650e+00|      0.0|   0.97561|0.024363|2.3251E-5|       0.262|             6471|               0|   NM_198970|\n",
      "|          CCDC43|ENSG00000180329|ENST00000315286|    113|1.2233e+02|9.2376e-01|     43|4.7661e+01|9.0220e-01|7.6223E-5| 2.8825E-4| 0.94336| 0.056352|       0.951|            39691|               5|   NM_144609|\n",
      "|           PTPRE|ENSG00000132334|ENST00000254667|    310|4.3148e+02|7.1845e-01|    167|1.7896e+02|9.3319e-01|1.6304E-4| 8.1616E-4| 0.99918|2.0201E-7|       0.474|            16924|               2|NM_001316677|\n",
      "+----------------+---------------+---------------+-------+----------+----------+-------+----------+----------+---------+----------+--------+---------+------------+-----------------+----------------+------------+\n",
      "\n"
     ]
    }
   ],
   "source": [
    "df_loft_ref_uniq.orderBy(rand()).limit(10).show"
   ]
  },
  {
   "cell_type": "markdown",
   "metadata": {},
   "source": [
    "Constrained genes are those with a pLi > 0.9"
   ]
  },
  {
   "cell_type": "code",
   "execution_count": 44,
   "metadata": {},
   "outputs": [
    {
     "data": {
      "application/vnd.jupyter.widget-view+json": {
       "model_id": "a6dc2d26f24a48faafce7fdefc1be404",
       "version_major": 2,
       "version_minor": 0
      },
      "text/plain": [
       "VBox()"
      ]
     },
     "metadata": {},
     "output_type": "display_data"
    },
    {
     "data": {
      "application/vnd.jupyter.widget-view+json": {
       "model_id": "",
       "version_major": 2,
       "version_minor": 0
      },
      "text/plain": [
       "FloatProgress(value=0.0, bar_style='info', description='Progress:', layout=Layout(height='25px', width='50%'),…"
      ]
     },
     "metadata": {},
     "output_type": "display_data"
    },
    {
     "name": "stdout",
     "output_type": "stream",
     "text": [
      "+----------------+-----+\n",
      "|oe_lof_upper_bin|count|\n",
      "+----------------+-----+\n",
      "|               0| 7641|\n",
      "|               1| 2603|\n",
      "+----------------+-----+\n",
      "\n"
     ]
    }
   ],
   "source": [
    "df_loft_ref_uniq.filter($\"pLi\" >= 0.9).groupBy($\"oe_lof_upper_bin\").count.sort($\"count\".desc).show"
   ]
  },
  {
   "cell_type": "markdown",
   "metadata": {},
   "source": [
    "Probability that transcript falls into distribution of unconstrained genes"
   ]
  },
  {
   "cell_type": "code",
   "execution_count": 45,
   "metadata": {},
   "outputs": [
    {
     "data": {
      "application/vnd.jupyter.widget-view+json": {
       "model_id": "57bece85d0404a88919bd2bce8cbf6f4",
       "version_major": 2,
       "version_minor": 0
      },
      "text/plain": [
       "VBox()"
      ]
     },
     "metadata": {},
     "output_type": "display_data"
    },
    {
     "data": {
      "application/vnd.jupyter.widget-view+json": {
       "model_id": "",
       "version_major": 2,
       "version_minor": 0
      },
      "text/plain": [
       "FloatProgress(value=0.0, bar_style='info', description='Progress:', layout=Layout(height='25px', width='50%'),…"
      ]
     },
     "metadata": {},
     "output_type": "display_data"
    },
    {
     "name": "stdout",
     "output_type": "stream",
     "text": [
      "+----------------+-----+\n",
      "|oe_lof_upper_bin|count|\n",
      "+----------------+-----+\n",
      "|               0| 7645|\n",
      "|               1| 6082|\n",
      "|               2| 6054|\n",
      "|               3| 5360|\n",
      "|               4| 3955|\n",
      "|               5|  205|\n",
      "|               6|   28|\n",
      "+----------------+-----+\n",
      "\n"
     ]
    }
   ],
   "source": [
    "df_loft_ref_uniq.filter($\"pNull\" <= 0.05).groupBy($\"oe_lof_upper_bin\").count.sort($\"count\".desc).show"
   ]
  },
  {
   "cell_type": "code",
   "execution_count": 46,
   "metadata": {},
   "outputs": [
    {
     "data": {
      "application/vnd.jupyter.widget-view+json": {
       "model_id": "0505c2fb910e49dba42bbbf282b7d0fc",
       "version_major": 2,
       "version_minor": 0
      },
      "text/plain": [
       "VBox()"
      ]
     },
     "metadata": {},
     "output_type": "display_data"
    },
    {
     "data": {
      "application/vnd.jupyter.widget-view+json": {
       "model_id": "",
       "version_major": 2,
       "version_minor": 0
      },
      "text/plain": [
       "FloatProgress(value=0.0, bar_style='info', description='Progress:', layout=Layout(height='25px', width='50%'),…"
      ]
     },
     "metadata": {},
     "output_type": "display_data"
    },
    {
     "name": "stdout",
     "output_type": "stream",
     "text": [
      "+----------------+-----+\n",
      "|oe_lof_upper_bin|count|\n",
      "+----------------+-----+\n",
      "|               6| 4819|\n",
      "|               5| 4639|\n",
      "|               7| 4151|\n",
      "|               8| 3094|\n",
      "|               9| 2685|\n",
      "|               4| 1348|\n",
      "+----------------+-----+\n",
      "\n"
     ]
    }
   ],
   "source": [
    "df_loft_ref_uniq.filter($\"pNull\" > 0.05).groupBy($\"oe_lof_upper_bin\").count.sort($\"count\".desc).show"
   ]
  },
  {
   "cell_type": "markdown",
   "metadata": {},
   "source": [
    " Probability that transcript falls into distribution of recessive genes (~46% o/e pLoF ratio; computed from gnomAD data)"
   ]
  },
  {
   "cell_type": "code",
   "execution_count": 47,
   "metadata": {},
   "outputs": [
    {
     "data": {
      "application/vnd.jupyter.widget-view+json": {
       "model_id": "3f51249e0a7f4a1ebbbea89fcaf18ebd",
       "version_major": 2,
       "version_minor": 0
      },
      "text/plain": [
       "VBox()"
      ]
     },
     "metadata": {},
     "output_type": "display_data"
    },
    {
     "data": {
      "application/vnd.jupyter.widget-view+json": {
       "model_id": "",
       "version_major": 2,
       "version_minor": 0
      },
      "text/plain": [
       "FloatProgress(value=0.0, bar_style='info', description='Progress:', layout=Layout(height='25px', width='50%'),…"
      ]
     },
     "metadata": {},
     "output_type": "display_data"
    },
    {
     "name": "stdout",
     "output_type": "stream",
     "text": [
      "+----------------+-----+\n",
      "|oe_lof_upper_bin|count|\n",
      "+----------------+-----+\n",
      "|               0| 7640|\n",
      "|               1| 1527|\n",
      "|               7|  980|\n",
      "|               9|  798|\n",
      "|               6|  756|\n",
      "|               8|  728|\n",
      "|               5|  256|\n",
      "|               4|   37|\n",
      "+----------------+-----+\n",
      "\n"
     ]
    }
   ],
   "source": [
    "df_loft_ref_uniq.filter($\"pRec\" <= 0.05).groupBy($\"oe_lof_upper_bin\").count.sort($\"count\".desc).show"
   ]
  },
  {
   "cell_type": "code",
   "execution_count": 48,
   "metadata": {},
   "outputs": [
    {
     "data": {
      "application/vnd.jupyter.widget-view+json": {
       "model_id": "dc476f4794c548d58f9b4d1fbe5cc4db",
       "version_major": 2,
       "version_minor": 0
      },
      "text/plain": [
       "VBox()"
      ]
     },
     "metadata": {},
     "output_type": "display_data"
    },
    {
     "data": {
      "application/vnd.jupyter.widget-view+json": {
       "model_id": "",
       "version_major": 2,
       "version_minor": 0
      },
      "text/plain": [
       "FloatProgress(value=0.0, bar_style='info', description='Progress:', layout=Layout(height='25px', width='50%'),…"
      ]
     },
     "metadata": {},
     "output_type": "display_data"
    },
    {
     "name": "stdout",
     "output_type": "stream",
     "text": [
      "+----------------+-----+\n",
      "|oe_lof_upper_bin|count|\n",
      "+----------------+-----+\n",
      "|               2| 6054|\n",
      "|               3| 5360|\n",
      "|               4| 5266|\n",
      "|               5| 4588|\n",
      "|               1| 4555|\n",
      "|               6| 4091|\n",
      "|               7| 3171|\n",
      "|               8| 2366|\n",
      "|               9| 1887|\n",
      "|               0|    5|\n",
      "+----------------+-----+\n",
      "\n"
     ]
    }
   ],
   "source": [
    "df_loft_ref_uniq.filter($\"pRec\" > 0.05).groupBy($\"oe_lof_upper_bin\").count.sort($\"count\".desc).show"
   ]
  },
  {
   "cell_type": "markdown",
   "metadata": {},
   "source": [
    "### Write out gnomAD pLI with RefSeq Metrics"
   ]
  },
  {
   "cell_type": "code",
   "execution_count": 50,
   "metadata": {},
   "outputs": [
    {
     "data": {
      "application/vnd.jupyter.widget-view+json": {
       "model_id": "9a574fd944c9494ba00ca4b5af3d3b14",
       "version_major": 2,
       "version_minor": 0
      },
      "text/plain": [
       "VBox()"
      ]
     },
     "metadata": {},
     "output_type": "display_data"
    },
    {
     "data": {
      "application/vnd.jupyter.widget-view+json": {
       "model_id": "",
       "version_major": 2,
       "version_minor": 0
      },
      "text/plain": [
       "FloatProgress(value=0.0, bar_style='info', description='Progress:', layout=Layout(height='25px', width='50%'),…"
      ]
     },
     "metadata": {},
     "output_type": "display_data"
    }
   ],
   "source": [
    "(df_loft_ref_uniq.write.mode(\"overwrite\")\n",
    "                 .parquet(\"s3://nch-igm-research-projects/rna_stability/peter/gnomAD_pLI_RefSeq.parquet\"))"
   ]
  }
 ],
 "metadata": {
  "kernelspec": {
   "display_name": "Spark",
   "language": "",
   "name": "sparkkernel"
  },
  "language_info": {
   "codemirror_mode": "text/x-scala",
   "mimetype": "text/x-scala",
   "name": "scala",
   "pygments_lexer": "scala"
  }
 },
 "nbformat": 4,
 "nbformat_minor": 4
}
